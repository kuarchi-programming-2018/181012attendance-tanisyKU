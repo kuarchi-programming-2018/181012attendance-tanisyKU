{
 "cells": [
  {
   "cell_type": "code",
   "execution_count": 1,
   "metadata": {},
   "outputs": [
    {
     "name": "stdout",
     "output_type": "stream",
     "text": [
      "24410294683171395267259945469996127000411199333760853190535535281681195871429510314079442068798555059453792431772087225245168879580469159794544170936403149540819320510882801573596907938222922817134288725100817648047405608500267748766714030468003650259685406411646787207097050545802045736020993909154298598218721111963426993884619351338577630868510716463423585020972878819198991971234596733617320373133963970742975210614209\n"
     ]
    }
   ],
   "source": [
    "def argfib(m):\n",
    "    if m == 0:\n",
    "        return 0\n",
    "    elif m == 1:\n",
    "        return 1\n",
    "    else:\n",
    "        (a, b) = (0, 1)\n",
    "        for i in range(m - 1):\n",
    "            (a, b) = (b, a + b)\n",
    "        return b\n",
    "    \n",
    "\n",
    "print(argfib(2018))"
   ]
  },
  {
   "cell_type": "code",
   "execution_count": null,
   "metadata": {},
   "outputs": [],
   "source": [
    "#else以下について。\n",
    "#代入の=を使い、a = b と　b = a + bを利用。\n",
    "#(a,b)=(b,a+b) mの値 カウンタ変数\n",
    "#(1,1)=(1,0+1) 2     0\n",
    "#(1,2)=(1,1+1) 3     1\n",
    "#(2,3)=(2,1+2) 4     2\n",
    "#(3,5)=(3,2+3) 5     3\n",
    "#このように続くため、上のような入力。"
   ]
  }
 ],
 "metadata": {
  "kernelspec": {
   "display_name": "Python 3",
   "language": "python",
   "name": "python3"
  },
  "language_info": {
   "codemirror_mode": {
    "name": "ipython",
    "version": 3
   },
   "file_extension": ".py",
   "mimetype": "text/x-python",
   "name": "python",
   "nbconvert_exporter": "python",
   "pygments_lexer": "ipython3",
   "version": "3.7.0"
  }
 },
 "nbformat": 4,
 "nbformat_minor": 2
}
